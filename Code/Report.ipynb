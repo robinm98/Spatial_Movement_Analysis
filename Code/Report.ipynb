{
 "cells": [
  {
   "cell_type": "markdown",
   "metadata": {},
   "source": [
    "# Advanced Data Analysis\n",
    "## Report\n",
    "## Project overview"
   ]
  },
  {
   "cell_type": "markdown",
   "metadata": {},
   "source": [
    "### Potential models :\n",
    "\n",
    "##### Base line models \n",
    "\n",
    "**1. ARIMA** : Better than TSLM to forecast historical data\n",
    " \n",
    "##### ML superverised learning\n",
    "\n",
    "**2. NN :** --> probelm : no memory / depedency\n",
    "\n",
    "*Justification*: NNs are fundamental to understanding how layers of neurons process input data to make predictions. They are good for capturing non-linear relationships but lack the temporal component, which is essential for time series data.\n",
    "\n",
    "*Usage*: You can use a simple NN to show how it performs without the ability to capture sequential information in the data. This sets a baseline to appreciate the advanced capabilities of RNNs and LSTMs.\n",
    "\n",
    "**3. RNN :** --> problem : no LONG term memory / depedency\n",
    "\n",
    "*Justification*: RNNs introduce the concept of memory into neural networks, making them better suited for time series data compared to simple NNs. However, they have limitations, such as difficulty learning long-term dependencies due to the vanishing gradient problem.\n",
    "\n",
    "*Usage*: Implementing an RNN will allow you to demonstrate these concepts and provide a direct comparison to the LSTM, which is designed to overcome the RNN's shortcomings.\n",
    "\n",
    "**4. LSTM :** ---> Theoritcally should solve NN and RNN problems \n",
    "\n",
    "*Justificatio*n: LSTMs are an extension of RNNs that are specifically designed to avoid the long-term dependency issues. They are more sophisticated and generally provide better performance on time series data that requires learning long-term patterns.\n",
    "    \n",
    "*Usage*: By using an LSTM, you can show its effectiveness in capturing complex and long-term relationships in the data, which is likely crucial for predicting animal movements based on past behavior and external influences.\n",
    "\n",
    "### Modelling procedure\n",
    "\n",
    "1. Work only with wolf to find the best model --> assess accuracy and show the real movements and predictions graphically for some wolves\n",
    "\n",
    "2. Analyse statistically if wolf are well correlated with elk IF YES add this to the model \n",
    "\n",
    "3. Once I find the best model, I try to create a model with the proximity metrics D !!!!\n",
    "--> Give to the model D : with Loss function that minimise D : min L∂D \n",
    "\n",
    "**Hyperparameter tuning :** find best para --> Great search <br>\n",
    "- Batch size : grand --> overfit<br>\n",
    "- Learning rate : 1e-5, 1e-4, 1e-3<br>\n",
    "- Window : 2, 5, 10, 20<br>\n",
    "- Node : 4, 16, 64, 256<br>\n",
    "- Layer : 3, 5, 7, 9<br>\n",
    "\n",
    "**Data pre process step for FNN, RNN and LSTM:**\n",
    "1. Create overlapping window\n",
    "2. Standardise the data --> fit the scaler on training data then apply it on both training and test data\n",
    "3. Sequential split 80/20\n",
    "4. Shuffle window\n",
    "\n",
    "\n",
    "**Metrcis D :**<br>\n",
    "- Use proximity metrics with elk in the model : eg. D = daily sum of distance between wolf observations and nearest cluster\n",
    "- v(long, lat, D) at time t per wolf --> D is a metrics that needs to be minimized in the loss function of the LSTM!\n",
    "- For the computation of the metrcis, assumptions that elks behave the same through the years\n",
    "- Metrics D is the proximity of each wolf observations to its closest cluster --> we used clusters where density of elks is high and assumptions that it's the case through years\n",
    "- Comparing K-means with GMM, K-means seems better --> 15 clusters (choosen arbitrarly based on the heat map) with K-means\n",
    "\n",
    "\n",
    "### Theme : \n",
    "\n",
    "1. Title : Deep learning comparative analysis of predatory movements\n",
    "--> Research question answer of what model is best to predict predatory movements \n",
    "\n",
    "2. Drift analysis \n",
    "--> check a quel point si on s'eloigne du dernier temps t la métric diminue\n",
    "\n",
    "3. Conclusion: Check pourquoi LSTM comprend mieux --> importance des points\n",
    "    --> Conclusion : LSTM, il est meilleure, pourquoi ?\n",
    "\n",
    "\n",
    "I AM ON CPU BUT NEED TO USE GPU !!!"
   ]
  },
  {
   "cell_type": "markdown",
   "metadata": {},
   "source": [
    "## Literature\n",
    "\n",
    "##### Usefull links : \n",
    "\n",
    "1. https://www.sciencedirect.com/science/article/pii/S0304380006001104#tbl1"
   ]
  }
 ],
 "metadata": {
  "language_info": {
   "name": "python"
  }
 },
 "nbformat": 4,
 "nbformat_minor": 2
}
